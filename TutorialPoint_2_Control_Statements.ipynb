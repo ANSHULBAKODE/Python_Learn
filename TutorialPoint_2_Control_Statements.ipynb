{
 "cells": [
  {
   "cell_type": "code",
   "execution_count": 1,
   "id": "5305866b",
   "metadata": {},
   "outputs": [
    {
     "name": "stdout",
     "output_type": "stream",
     "text": [
      "age 25\n",
      "eligible to vote\n"
     ]
    }
   ],
   "source": [
    "## If Else Statements\n",
    "age = 25\n",
    "print('age', age)\n",
    "if age >= 18:\n",
    "    print('eligible to vote')\n",
    "else:\n",
    "    print('not eligible to vote')"
   ]
  },
  {
   "cell_type": "code",
   "execution_count": 4,
   "id": "63fac5a4",
   "metadata": {},
   "outputs": [
    {
     "name": "stdout",
     "output_type": "stream",
     "text": [
      "Amount =  2500\n",
      "Payable amount =  2375.0\n",
      "125.0\n"
     ]
    }
   ],
   "source": [
    "## elif statement \n",
    "### allows to check multiple expressions for True and execute a block of code as soon as one of the conditions \n",
    "#### evaluates to True\n",
    "amount = 2500\n",
    "print('Amount = ', amount)\n",
    "if amount > 10000:\n",
    "    discount = amount * 20/100\n",
    "else:\n",
    "    if amount > 5000:\n",
    "        discount = amount * 10/100\n",
    "    else:\n",
    "        if amount > 1000:\n",
    "            discount = amount * 5/100\n",
    "        else:\n",
    "            discount = 0 \n",
    "print('Payable amount = ', amount - discount)\n",
    "print(discount )"
   ]
  },
  {
   "cell_type": "code",
   "execution_count": 5,
   "id": "0f77afbe",
   "metadata": {},
   "outputs": [
    {
     "name": "stdout",
     "output_type": "stream",
     "text": [
      "Amount = 2500\n",
      "Payable amount =  2375.0\n"
     ]
    }
   ],
   "source": [
    "### Above statement is little over coded we can shorten and clean the above code with elif\n",
    "amount = 2500\n",
    "print('Amount =', amount)\n",
    "if amount > 10000:\n",
    "    discount = amount * 20/100\n",
    "elif amount > 5000:\n",
    "    discount = amount * 10/100\n",
    "elif amount > 1000:\n",
    "    discount = amount * 5/100\n",
    "else:\n",
    "    discount = 0\n",
    "    \n",
    "print('Payable amount = ', amount - discount )\n",
    "    "
   ]
  },
  {
   "cell_type": "code",
   "execution_count": 6,
   "id": "e645f47f",
   "metadata": {},
   "outputs": [
    {
     "name": "stdout",
     "output_type": "stream",
     "text": [
      " Number = 8\n",
      "divisible by 2 and not divisible by 3\n"
     ]
    }
   ],
   "source": [
    "## Nested if statements \n",
    "### There maybe a sitation when. you want to check for anothyer condition after a condition resolved to true\n",
    "### can have if elif else construct inside another if elif else construct\n",
    "num = 8\n",
    "print(' Number =', num)\n",
    "if num%2 == 0:\n",
    "    if num%3 == 0:\n",
    "        print(\"Divisible by 3 and 2\")\n",
    "    else:\n",
    "        print('divisible by 2 and not divisible by 3')\n",
    "else:\n",
    "    if num%3 ==0:\n",
    "        print('divisible by 3 not divisible by 2')\n",
    "    else:\n",
    "        print('not divisible by 2 not divisible by 3')"
   ]
  },
  {
   "cell_type": "code",
   "execution_count": 7,
   "id": "92f06ca6",
   "metadata": {},
   "outputs": [],
   "source": [
    "## Match - Case Statement ************************\n",
    "### Need to study after completing other statements ************************************"
   ]
  },
  {
   "cell_type": "code",
   "execution_count": 8,
   "id": "1b05cb8d",
   "metadata": {},
   "outputs": [
    {
     "name": "stdout",
     "output_type": "stream",
     "text": [
      "\n",
      "Btfl s bttr thn gly.\n",
      "Explct s bttr thn mplct.\n",
      "Smpl s bttr thn cmplx.\n",
      "Cmplx s bttr thn cmplctd.\n"
     ]
    }
   ],
   "source": [
    "## For Loop\n",
    "### iterate over the items of any sequence such as list tuple or string \n",
    "zen = '''\n",
    "Beautiful is better than ugly.\n",
    "Explicit is better than implicit.\n",
    "Simple is better than complex.\n",
    "Complex is better than complicated.\n",
    "'''\n",
    "\n",
    "for char in zen:\n",
    "    if char not in 'aeiou':\n",
    "        print(char, end='')"
   ]
  },
  {
   "cell_type": "code",
   "execution_count": 9,
   "id": "bfa7dc1d",
   "metadata": {},
   "outputs": [
    {
     "name": "stdout",
     "output_type": "stream",
     "text": [
      "total = 539\n"
     ]
    }
   ],
   "source": [
    "## For with Tuple\n",
    "numbers = (34,54,67,21,78,97,45,44,80,19)\n",
    "\n",
    "total = 0\n",
    "for num in numbers:\n",
    "    total+=num # total = total + num\n",
    "print('total =', total)"
   ]
  },
  {
   "cell_type": "code",
   "execution_count": 10,
   "id": "6aea58a1",
   "metadata": {},
   "outputs": [
    {
     "name": "stdout",
     "output_type": "stream",
     "text": [
      "total = 539\n"
     ]
    }
   ],
   "source": [
    "# For with list\n",
    "numbers = [34,54,67,21,78,97,45,44,80,19]\n",
    "total = 0\n",
    "for num in numbers:\n",
    "    total +=num\n",
    "print('total =', total)\n"
   ]
  },
  {
   "cell_type": "code",
   "execution_count": 18,
   "id": "376e9a3b",
   "metadata": {},
   "outputs": [
    {
     "data": {
      "text/plain": [
       "range(0, 5)"
      ]
     },
     "execution_count": 18,
     "metadata": {},
     "output_type": "execute_result"
    }
   ],
   "source": [
    "# For with Range object\n",
    "# range(start, stop, step)\n",
    "numbers = range(0,5)\n",
    "numbers"
   ]
  },
  {
   "cell_type": "code",
   "execution_count": 19,
   "id": "060e9b7b",
   "metadata": {},
   "outputs": [
    {
     "name": "stdout",
     "output_type": "stream",
     "text": [
      "[0, 1, 2, 3, 4]\n"
     ]
    }
   ],
   "source": [
    "print(list(numbers))"
   ]
  },
  {
   "cell_type": "code",
   "execution_count": 20,
   "id": "6af66f13",
   "metadata": {},
   "outputs": [
    {
     "name": "stdout",
     "output_type": "stream",
     "text": [
      "0\n",
      "1\n",
      "2\n",
      "3\n",
      "4\n"
     ]
    }
   ],
   "source": [
    "for num in range(5):\n",
    "    print(num)"
   ]
  },
  {
   "cell_type": "code",
   "execution_count": 25,
   "id": "63488e52",
   "metadata": {},
   "outputs": [
    {
     "name": "stdout",
     "output_type": "stream",
     "text": [
      "Factorial of 5 is 120\n"
     ]
    }
   ],
   "source": [
    "# Factorial of a number\n",
    "fact = 1\n",
    "N = 5\n",
    "for x in range(1,N+1):\n",
    "    fact = fact*x\n",
    "print('Factorial of {} is {}'.format(N, fact))"
   ]
  },
  {
   "cell_type": "code",
   "execution_count": 26,
   "id": "203399f3",
   "metadata": {},
   "outputs": [
    {
     "name": "stdout",
     "output_type": "stream",
     "text": [
      "0 [34, 54, 67, 21, 78]\n",
      "1 [34, 54, 67, 21, 78]\n",
      "2 [34, 54, 67, 21, 78]\n",
      "3 [34, 54, 67, 21, 78]\n",
      "4 [34, 54, 67, 21, 78]\n"
     ]
    }
   ],
   "source": [
    "# for loop with sequence index\n",
    "## to iterate over a sequence we can obtain the list of indices using the range function\n",
    "numbers = [34,54,67,21,78]\n",
    "indices = range(len(numbers))\n",
    "for index in indices:\n",
    "    print(index,numbers)"
   ]
  },
  {
   "cell_type": "code",
   "execution_count": 31,
   "id": "6b8e6ba9",
   "metadata": {},
   "outputs": [
    {
     "name": "stdout",
     "output_type": "stream",
     "text": [
      "10\n",
      "20\n"
     ]
    }
   ],
   "source": [
    "## for loop with dictionaries\n",
    "numbers = {10:'Ten', 20:'Twenty'}\n",
    "for x in numbers:\n",
    "    print(x)"
   ]
  },
  {
   "cell_type": "code",
   "execution_count": 32,
   "id": "22163ca1",
   "metadata": {},
   "outputs": [
    {
     "name": "stdout",
     "output_type": "stream",
     "text": [
      "10 : Ten\n",
      "20 : Twenty\n",
      "30 : Thirty\n",
      "40 : Forty\n"
     ]
    }
   ],
   "source": [
    "numbers = {10:'Ten', 20:'Twenty', 30:'Thirty', 40:'Forty'}\n",
    "for x in numbers:\n",
    "    print(x,':', numbers[x])"
   ]
  },
  {
   "cell_type": "code",
   "execution_count": 34,
   "id": "ffa8e921",
   "metadata": {},
   "outputs": [
    {
     "name": "stdout",
     "output_type": "stream",
     "text": [
      "(10, 'Ten')\n",
      "(20, 'Twenty')\n",
      "(30, 'Thirty')\n",
      "(40, 'Forty')\n"
     ]
    }
   ],
   "source": [
    "numbers = {10:'Ten', 20:'Twenty', 30:'Thirty', 40:'Forty'}\n",
    "for x  in numbers.items():\n",
    "    print(x)     \n",
    "    "
   ]
  },
  {
   "cell_type": "code",
   "execution_count": 35,
   "id": "5710a856",
   "metadata": {},
   "outputs": [
    {
     "name": "stdout",
     "output_type": "stream",
     "text": [
      "10 : Ten\n",
      "20 : Twenty\n",
      "30 : Thirty\n",
      "40 : Forty\n"
     ]
    }
   ],
   "source": [
    "for x in numbers.keys():\n",
    "    print(x,':', numbers[x])"
   ]
  },
  {
   "cell_type": "code",
   "execution_count": 36,
   "id": "08fa75fc",
   "metadata": {},
   "outputs": [
    {
     "name": "stdout",
     "output_type": "stream",
     "text": [
      "iteration no. 0\n",
      "iteration no. 1\n",
      "iteration no. 2\n",
      "iteration no. 3\n",
      "iteration no. 4\n",
      "iteration no. 5\n",
      "for loop over\n",
      "end of loop\n"
     ]
    }
   ],
   "source": [
    "## Python for else loops:\n",
    "### Python supports having an else statement with for loop, if the else statement is used with a for loop \n",
    "#### the else statement is executed when the sequence is exhausted before the control shifts to the main line of \n",
    "##### execution\n",
    "\n",
    "for count in range(6):\n",
    "    print('iteration no. {}'.format(count))\n",
    "else:\n",
    "    print('for loop over')\n",
    "print('end of loop')"
   ]
  },
  {
   "cell_type": "code",
   "execution_count": 38,
   "id": "73751fc0",
   "metadata": {},
   "outputs": [
    {
     "name": "stdout",
     "output_type": "stream",
     "text": [
      "  1   2   3   4   5   6   7   8   9  10 \n",
      "  2   4   6   8  10  12  14  16  18  20 \n",
      "  3   6   9  12  15  18  21  24  27  30 \n",
      "  4   8  12  16  20  24  28  32  36  40 \n",
      "  5  10  15  20  25  30  35  40  45  50 \n",
      "  6  12  18  24  30  36  42  48  54  60 \n",
      "  7  14  21  28  35  42  49  56  63  70 \n",
      "  8  16  24  32  40  48  56  64  72  80 \n",
      "  9  18  27  36  45  54  63  72  81  90 \n",
      " 10  20  30  40  50  60  70  80  90 100 \n"
     ]
    }
   ],
   "source": [
    "## Nested loop in Python\n",
    "for i in range(1,11):\n",
    "    for j in range(1,11):\n",
    "        k=i*j\n",
    "        print('{:3d}'.format(k), end=' ')\n",
    "    print()"
   ]
  },
  {
   "cell_type": "code",
   "execution_count": 39,
   "id": "c192472c",
   "metadata": {},
   "outputs": [],
   "source": [
    "## Python While loop -\n",
    "## while loop statement repeatedly executes a target statement as long as a given expression is true"
   ]
  },
  {
   "cell_type": "code",
   "execution_count": 40,
   "id": "4e5d2dd4",
   "metadata": {},
   "outputs": [
    {
     "name": "stdout",
     "output_type": "stream",
     "text": [
      "iteration no. 1\n",
      "iteration no. 2\n",
      "iteration no. 3\n",
      "iteration no. 4\n",
      "iteration no. 5\n",
      "end of while loop\n"
     ]
    }
   ],
   "source": [
    "count = 0\n",
    "while count <5:\n",
    "    count+=1\n",
    "    print('iteration no. {}'.format(count))\n",
    "print('end of while loop')"
   ]
  },
  {
   "cell_type": "code",
   "execution_count": 43,
   "id": "1a68a7ca",
   "metadata": {},
   "outputs": [
    {
     "name": "stdout",
     "output_type": "stream",
     "text": [
      "enter a number..3\n",
      "3\n",
      "enter a number..v\n",
      "end of while loop\n"
     ]
    }
   ],
   "source": [
    "var = '0'\n",
    "while var.isnumeric()== True:\n",
    "    var = input('enter a number..')\n",
    "    if var.isnumeric()== True:\n",
    "        print(var)\n",
    "print('end of while loop')"
   ]
  },
  {
   "cell_type": "code",
   "execution_count": 44,
   "id": "a7379bd5",
   "metadata": {},
   "outputs": [
    {
     "name": "stdout",
     "output_type": "stream",
     "text": [
      "iteration no 1\n",
      "iteration no 2\n",
      "iteration no 3\n",
      "iteration no 4\n",
      "iteration no 5\n",
      "While loop over.Now in else block\n",
      "End of while loop\n"
     ]
    }
   ],
   "source": [
    "## While else statement\n",
    "### else statement is executed when the condition becomes false before the control shifts to the main line of execution\n",
    "count = 0\n",
    "while count<5:\n",
    "    count+=1\n",
    "    print(\"iteration no {}\".format(count))\n",
    "else:\n",
    "    print('While loop over.Now in else block')\n",
    "print('End of while loop')"
   ]
  },
  {
   "cell_type": "code",
   "execution_count": 45,
   "id": "4e1ca55a",
   "metadata": {},
   "outputs": [
    {
     "name": "stdout",
     "output_type": "stream",
     "text": [
      "Current letter:  P\n",
      "Current letter:  y\n",
      "Current letter:  t\n"
     ]
    }
   ],
   "source": [
    "## Break statement\n",
    "### it terminates the current loop and resumes at the next statement\n",
    "#### Most common use for break is when some external condition triggered requiring a hasty exit from a loop. Break statment can be used in both while and for loop.\n",
    "##### In Nested loop break statement stops the execution of the innermost loop and start executing the next line of code after the block.\n",
    "for letter in 'Python':\n",
    "    if letter =='h':\n",
    "        break\n",
    "    print('Current letter: ', letter)"
   ]
  },
  {
   "cell_type": "code",
   "execution_count": 46,
   "id": "87cfb05c",
   "metadata": {},
   "outputs": [
    {
     "name": "stdout",
     "output_type": "stream",
     "text": [
      "current variable value: 10\n",
      "current variable value: 9\n",
      "current variable value: 8\n",
      "current variable value: 7\n",
      "current variable value: 6\n",
      "end\n"
     ]
    }
   ],
   "source": [
    "var = 10\n",
    "while var > 0:\n",
    "    print('current variable value:', var)\n",
    "    var = var-1\n",
    "    if var == 5:\n",
    "        break\n",
    "print('end')"
   ]
  },
  {
   "cell_type": "code",
   "execution_count": 47,
   "id": "86a7dd64",
   "metadata": {},
   "outputs": [
    {
     "name": "stdout",
     "output_type": "stream",
     "text": [
      "current letter: P\n",
      "current letter: y\n",
      "current letter: t\n",
      "current letter: o\n",
      "current letter: n\n"
     ]
    }
   ],
   "source": [
    "## Continue statement\n",
    "### Continue statement resumes the control to the beginning of the current, when encountered the loop start next iteration without executing the remaining statements in the current iteration.\n",
    "#### Can be used in while and for loops\n",
    "##### Continue statement is just the opposite of break statement. It skips the remaining statements in the current loop and starts the next iteration.\n",
    "for letter in 'Python':\n",
    "    if letter =='h':\n",
    "        continue\n",
    "    print('current letter:', letter)"
   ]
  },
  {
   "cell_type": "code",
   "execution_count": 48,
   "id": "fbb1ddc2",
   "metadata": {},
   "outputs": [
    {
     "name": "stdout",
     "output_type": "stream",
     "text": [
      "current variable value: 4\n",
      "current variable value: 2\n",
      "current variable value: 1\n",
      "current variable value: 0\n",
      "end of loop\n"
     ]
    }
   ],
   "source": [
    "while var > 0:\n",
    "    var = var -1 \n",
    "    if var == 3:\n",
    "        continue\n",
    "    print('current variable value:', var)\n",
    "print('end of loop')"
   ]
  },
  {
   "cell_type": "code",
   "execution_count": null,
   "id": "3a55e377",
   "metadata": {},
   "outputs": [],
   "source": [
    "## Prime factor of a given number, to find prime factors we need to succesively divide the given number starting with 2, increment the divisor and continue the same process till the input reduces to 1\n",
    "## Accept input from user(n)\n",
    "##set divisor (d) to 2\n",
    "## 3. perfom following till n > 1\n",
    "## 4. check if the given number(n) is divisible by divisor (d)\n",
    "## if n%d == 0\n",
    "## a. print d as a factor\n",
    "## b. set new value of n as n/d\n",
    "## c. Repeat from 4\n",
    "## if not \n",
    "## increment d by 1\n",
    "## Repeat from 3"
   ]
  },
  {
   "cell_type": "code",
   "execution_count": 60,
   "id": "23091cb4",
   "metadata": {},
   "outputs": [
    {
     "name": "stdout",
     "output_type": "stream",
     "text": [
      "Please enter number for prime factors\n",
      "You have entered 6000000\n",
      "2\n",
      "2\n",
      "2\n",
      "2\n",
      "2\n",
      "2\n",
      "2\n",
      "3\n",
      "5\n",
      "5\n",
      "5\n",
      "5\n",
      "5\n",
      "5\n"
     ]
    }
   ],
   "source": [
    "print('Please enter number for prime factors')\n",
    "num = 6000000\n",
    "print('You have entered', num)\n",
    "d = 2\n",
    "while num > 1:\n",
    "    if num%d == 0:\n",
    "        print(d)\n",
    "        num = num / d\n",
    "        continue\n",
    "    d = d+1"
   ]
  },
  {
   "cell_type": "code",
   "execution_count": 64,
   "id": "9e7cff84",
   "metadata": {},
   "outputs": [
    {
     "name": "stdout",
     "output_type": "stream",
     "text": [
      "current letter:  p\n",
      "current letter:  y\n",
      "current letter:  t\n",
      " This is a pass block\n",
      "current letter:  h\n",
      "current letter:  o\n",
      "current letter:  n\n",
      " bye\n"
     ]
    }
   ],
   "source": [
    "## Python Pass statement\n",
    "### Pass statement is used when a statement is required syntactically but you don not want any command or code to execute\n",
    "#### Pass statement is a null operation, nothing happens when it executes. \n",
    "\n",
    "for letter in 'python':\n",
    "    if letter == 'h':\n",
    "        pass\n",
    "        print(' This is a pass block')\n",
    "    print('current letter: ', letter )\n",
    "print(' bye')"
   ]
  },
  {
   "cell_type": "code",
   "execution_count": 67,
   "id": "9e4ddcc9",
   "metadata": {},
   "outputs": [],
   "source": [
    "## Using Ellipses as pass alternative\n",
    "### Python new version allowes ellipses coded as three consecutive dots ... to be used in place of pass statement\n",
    "\n",
    "def func1():\n",
    "    ...\n",
    "func1()\n",
    "## this function does nothing when called\n",
    "\n",
    "def func2():\n",
    "    pass\n",
    "\n",
    "func2()\n",
    "\n",
    "\n",
    "\n"
   ]
  },
  {
   "cell_type": "code",
   "execution_count": 68,
   "id": "31d3b2c0",
   "metadata": {},
   "outputs": [],
   "source": [
    "## Python Functions\n",
    "## Function blocks begin with the keyword def followed by the function name and parentheses ( ( ) ).\n",
    "\n",
    "## Any input parameters or arguments should be placed within these parentheses. You can also define parameters inside these parentheses.\n",
    "\n",
    "## The first statement of a function can be an optional statement; the documentation string of the function or docstring.\n",
    "\n",
    "## The code block within every function starts with a colon (:) and is indented.\n",
    "\n",
    "## The statement return [expression] exits a function, optionally passing back an expression to the caller. A return statement with no arguments is the same as return None."
   ]
  },
  {
   "cell_type": "code",
   "execution_count": 74,
   "id": "e388a3d9",
   "metadata": {},
   "outputs": [],
   "source": [
    "def functionname( parameters):\n",
    "    'function docstring optional'\n",
    "    function_suite\n",
    "    return[expression]"
   ]
  },
  {
   "cell_type": "code",
   "execution_count": 76,
   "id": "7af77132",
   "metadata": {},
   "outputs": [
    {
     "name": "stdout",
     "output_type": "stream",
     "text": [
      "Good Morning\n"
     ]
    }
   ],
   "source": [
    "## By default parameters have a positional behaviour and you need to inform them in the same order that they were defiined, once the function is definedyou can execute it by calling it from another function or directly from the python prompt\n",
    "def printme(str):\n",
    "    'this prints an input string in the function'\n",
    "    print(str)\n",
    "    return\n",
    "\n",
    "printme('Good Morning')"
   ]
  },
  {
   "cell_type": "code",
   "execution_count": 77,
   "id": "e861bdb3",
   "metadata": {},
   "outputs": [
    {
     "name": "stdout",
     "output_type": "stream",
     "text": [
      "id before passing 140356597585840\n",
      "id inside the function 140356597585840\n"
     ]
    }
   ],
   "source": [
    "## Difference between c, C++ and Python -\n",
    "### The function calling mechanism in python differs from C, C++. There are two main function calling mechanisms - call by value and call by reference\n",
    "#### C,C++ functions are said to be called by value, python uses pass by reference by mechanism\n",
    "##### As a variable in python is a label or reference to the object in the memory, both the variables used as actual argument as well as formal arguments really refer to the same object in the memory. \n",
    "\n",
    "def testfunction(arg):\n",
    "    print('id inside the function', id(arg))\n",
    "    \n",
    "var = 'hello'\n",
    "print('id before passing', id(var))\n",
    "testfunction(var)"
   ]
  },
  {
   "cell_type": "code",
   "execution_count": 79,
   "id": "7bbc4fd9",
   "metadata": {},
   "outputs": [
    {
     "name": "stdout",
     "output_type": "stream",
     "text": [
      "id before passing 140356578503248\n",
      "id inside the function 140356578503248\n",
      "new object after increment 11 140356578503280\n",
      "value after function call 10\n"
     ]
    }
   ],
   "source": [
    "## The behaviour also depends on whetther the passed object is mutable or immutable. Python numeric object is immutable. when a numeric object is passed and then the function changes the value of the formal argument, it actually creates a new object in the memory leaving the original value unchanged. \n",
    "def testfunction(arg):\n",
    "    print('id inside the function', id(arg))\n",
    "    arg = arg+1\n",
    "    print('new object after increment', arg, id(arg))\n",
    "\n",
    "var = 10\n",
    "print('id before passing', id(var))\n",
    "testfunction(var)\n",
    "print('value after function call', var)"
   ]
  },
  {
   "cell_type": "code",
   "execution_count": null,
   "id": "330fa758",
   "metadata": {},
   "outputs": [],
   "source": [
    "## now passing mutable object (list or dictionary) to a function.\n"
   ]
  },
  {
   "cell_type": "code",
   "execution_count": 84,
   "id": "d123d73f",
   "metadata": {},
   "outputs": [
    {
     "name": "stdout",
     "output_type": "stream",
     "text": [
      "Hello Sammy\n"
     ]
    }
   ],
   "source": [
    "## Functional arguments - \n",
    "### the variables in the parenthesis are called formal arguments\n",
    "#### when the function is called value to each of the formal arguments must be provided, those are called actual arguments\n",
    "\n",
    "def greetings(name):\n",
    "    ' This is doctstring of the greetings function'\n",
    "    print('Hello {}'.format(name))\n",
    "    return\n",
    "\n",
    "greetings('Sammy')"
   ]
  },
  {
   "cell_type": "code",
   "execution_count": 86,
   "id": "093fc501",
   "metadata": {},
   "outputs": [
    {
     "data": {
      "text/plain": [
       "31"
      ]
     },
     "execution_count": 86,
     "metadata": {},
     "output_type": "execute_result"
    }
   ],
   "source": [
    "## Return keyword\n",
    "### Function can also return. value of an expression to the calling function, the value of return expression can be stored in a variable for further processing.\n",
    "def add(x,y):\n",
    "    z = x+y\n",
    "    return z\n",
    "\n",
    "add(10,21)"
   ]
  },
  {
   "cell_type": "code",
   "execution_count": 88,
   "id": "611ad258",
   "metadata": {},
   "outputs": [],
   "source": [
    "## Types of Function Arguments-\n",
    "## - Positional or required arguments\n",
    "## - Keyword arguments\n",
    "## - Default arguments\n",
    "## - Positional only arguments\n",
    "## - Keyword only arguments\n",
    "## - Arbitrary or variable length arguments"
   ]
  },
  {
   "cell_type": "markdown",
   "id": "5a318587",
   "metadata": {},
   "source": [
    "The argument list begins with the positional-only args, followed by the slash (/) symbol.\n",
    "\n",
    "It is followed by regular positional args that may or may not be called as keyword arguments.\n",
    "\n",
    "Then there may be one or more args with default values.\n",
    "\n",
    "Next, arbitrary positional arguments represented by a variable prefixed with single asterisk, that is treated as tuple. It is the next.\n",
    "\n",
    "If the function has any keyword-only arguments, put an asterisk before their names start. Some of the keyword-only arguments may have a default value.\n",
    "\n",
    "Last in the bracket is argument with two asterisks ** to accept arbitrary number of keyword arguments."
   ]
  },
  {
   "cell_type": "code",
   "execution_count": null,
   "id": "4afc4c87",
   "metadata": {},
   "outputs": [],
   "source": [
    "## Python default arguments\n",
    "### Python allows to define a function with default value assigned to one or more formal arguments. Python uses the default value for such an argument if no value is passed to it. If any value is passed the default value is overriden with the actual value passed.\n",
    "def printinfo(name, age = 35):\n",
    "    \n"
   ]
  },
  {
   "cell_type": "markdown",
   "id": "3dd30fda",
   "metadata": {},
   "source": [
    "#### Constraining a model to make it simpler and reduce the risk ofoverfitting is called regularization. The amount of regularization to apply during learning can be controlled by a hyper-parameter. A hyper parameter is a parameter of a learning algorithm not of the model. As such it is not affected by the learning algorithm itself, it must be set prior to training and remains constant during training. If you set the regularization hyperparameter to a very large value you will get an almost flat model a slope close to zero. the learning algorithm will almost certainly not overfit the training data but it is less likely to to find a good solution. Tuning hyperparameter is very important part of machine learning system. \n",
    "\n"
   ]
  },
  {
   "cell_type": "markdown",
   "id": "163e50ee",
   "metadata": {},
   "source": [
    "Testing and validation - A better option is to split data into two sets - the training and test set. train model using training set and test set. The error rate on new cases is called generational error or out of sample error. If the training error is low your model makes few mistakes on the training set but the generational error is high, it means that your model is overfitting the training data. "
   ]
  },
  {
   "cell_type": "markdown",
   "id": "c09c9b75",
   "metadata": {},
   "source": [
    "#### Validation set \n",
    "Train multiple models with the various hyperparameters using the training set, select the model and hyperparameters that perform better on the validation set and when you are happy run the model against the test set to get an estimate of the generalization error. To avoid wasting time too much training data in validation sets, a common technique is used - cross validation, training set is split into complimentary subsets and each model is trained against different combination of these subsets and validated against the remaining parts.Once the model type and hyperparameters have been selected a final model is trained using these hyper parameters on the full training set and the generalized error is measured on the test set. "
   ]
  },
  {
   "cell_type": "code",
   "execution_count": 4,
   "id": "7e29f0a1",
   "metadata": {},
   "outputs": [],
   "source": [
    "## Python default arguments\n",
    "## Python allows to define a functyiotn with default value assigned to one or more formal arguments. \n",
    "## Python uses the default value for such an argument if no value is passed to it. "
   ]
  },
  {
   "cell_type": "code",
   "execution_count": 9,
   "id": "8b304d27",
   "metadata": {},
   "outputs": [
    {
     "name": "stdout",
     "output_type": "stream",
     "text": [
      "Name Anshul\n",
      "Age 31\n"
     ]
    }
   ],
   "source": [
    "## Python allows to define a function with default value assigned to one or more formal agruments. Python uses the degault value for such an argument if no value is oassed, if any value is passed the default value is overriden.\n",
    "## Function definition is here-\n",
    "def printinfo(name, age = 35):\n",
    "    \"This prints a passed info into this function\"\n",
    "    print('Name', name)\n",
    "    print(\"Age\", age)\n",
    "    return\n",
    "\n",
    "printinfo(name = 'Anshul', age = 31)"
   ]
  },
  {
   "cell_type": "code",
   "execution_count": 11,
   "id": "043679ff",
   "metadata": {},
   "outputs": [],
   "source": [
    "def percent(phy, maths, maxmarks = 200):\n",
    "    val = (phy+maths)*100/maxmarks\n",
    "    return val"
   ]
  },
  {
   "cell_type": "code",
   "execution_count": 12,
   "id": "9d61062d",
   "metadata": {},
   "outputs": [
    {
     "data": {
      "text/plain": [
       "65.0"
      ]
     },
     "execution_count": 12,
     "metadata": {},
     "output_type": "execute_result"
    }
   ],
   "source": [
    "percent(60,70)"
   ]
  },
  {
   "cell_type": "code",
   "execution_count": null,
   "id": "c8bfd5f8",
   "metadata": {},
   "outputs": [],
   "source": [
    "def n"
   ]
  },
  {
   "cell_type": "code",
   "execution_count": null,
   "id": "b998e5fd",
   "metadata": {},
   "outputs": [],
   "source": []
  },
  {
   "cell_type": "code",
   "execution_count": null,
   "id": "3d73112e",
   "metadata": {},
   "outputs": [],
   "source": []
  }
 ],
 "metadata": {
  "kernelspec": {
   "display_name": "Python 3 (ipykernel)",
   "language": "python",
   "name": "python3"
  },
  "language_info": {
   "codemirror_mode": {
    "name": "ipython",
    "version": 3
   },
   "file_extension": ".py",
   "mimetype": "text/x-python",
   "name": "python",
   "nbconvert_exporter": "python",
   "pygments_lexer": "ipython3",
   "version": "3.9.12"
  }
 },
 "nbformat": 4,
 "nbformat_minor": 5
}
