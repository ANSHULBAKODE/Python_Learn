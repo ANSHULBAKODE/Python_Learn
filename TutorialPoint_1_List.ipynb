{
 "cells": [
  {
   "cell_type": "markdown",
   "id": "8ac39e67",
   "metadata": {},
   "source": [
    "Contents below - \n",
    "1. Lists"
   ]
  },
  {
   "cell_type": "code",
   "execution_count": 3,
   "id": "13175b5e",
   "metadata": {},
   "outputs": [],
   "source": [
    "# 1. Lists - Python \n",
    "## Built in Data types in python,list is a sequence of comma seperated items, enclosed in square brackets []. \n",
    "### The items need not to be of the same data type\n",
    "\n",
    "list1 = ['Rohan', 'Physics', 21, 69.75]\n",
    "list2 = [1,2,3,4,5]\n",
    "list3 = ['a', 'b','c', 'd']\n",
    "list4 = [25.03, True , -55, 1+2j]\n",
    "\n",
    "#### list is a sequence data type, and is an ordered collection of items, Each item has unique position index\n",
    "#### starting from 0.\n",
    "### List is similar to an array in C, C++ or Java, but the main difference is array elements must of same data type\n",
    "#### Python list is mutable and items can be accessed using indexes and can be modified\n",
    "#### List can have same item at multiple index positions\n"
   ]
  },
  {
   "cell_type": "code",
   "execution_count": 5,
   "id": "978cf3cd",
   "metadata": {},
   "outputs": [
    {
     "data": {
      "text/plain": [
       "[25.03, True, -55, 111]"
      ]
     },
     "execution_count": 5,
     "metadata": {},
     "output_type": "execute_result"
    }
   ],
   "source": [
    "### Python List operations\n",
    "\n",
    "#### Concatenate two lists +\n",
    "#### Repeatition *\n",
    "#### Membership operators 'IN' and 'NOT IN' works with list objects\n",
    "#### list1[0] , list1[-1], list1[2:4] - sublist \n",
    "list4[3] = 111\n",
    "list4"
   ]
  },
  {
   "cell_type": "code",
   "execution_count": 7,
   "id": "570d75df",
   "metadata": {},
   "outputs": [
    {
     "data": {
      "text/plain": [
       "['Rohan', 'Physics', 21, 69.75, 'e', 'e']"
      ]
     },
     "execution_count": 7,
     "metadata": {},
     "output_type": "execute_result"
    }
   ],
   "source": [
    "## Append() - Adds the item at the end of the existing list\n",
    "list1.append('e')\n",
    "list1"
   ]
  },
  {
   "cell_type": "code",
   "execution_count": 9,
   "id": "c91d2ec6",
   "metadata": {},
   "outputs": [
    {
     "data": {
      "text/plain": [
       "['Rohan', 'Physics', 21, 69.75, 'e', 'Pass', 'Pass', 'e']"
      ]
     },
     "execution_count": 9,
     "metadata": {},
     "output_type": "execute_result"
    }
   ],
   "source": [
    "## Insert() method inserts the item at a specified index in the list\n",
    "list1.insert(-1, 'Pass')\n",
    "list1"
   ]
  },
  {
   "cell_type": "code",
   "execution_count": 11,
   "id": "86f9dbae",
   "metadata": {},
   "outputs": [
    {
     "data": {
      "text/plain": [
       "['Rohan', 'Physics', 21, 69.75, 'Pass', 'Pass']"
      ]
     },
     "execution_count": 11,
     "metadata": {},
     "output_type": "execute_result"
    }
   ],
   "source": [
    "## Remove() - removes list items\n",
    "list1.remove('e')\n",
    "list1"
   ]
  },
  {
   "cell_type": "code",
   "execution_count": 14,
   "id": "ac081438",
   "metadata": {},
   "outputs": [
    {
     "data": {
      "text/plain": [
       "['Rohan', 'Physics', 21]"
      ]
     },
     "execution_count": 14,
     "metadata": {},
     "output_type": "execute_result"
    }
   ],
   "source": [
    "## Pop() mentod - removes the items from the list\n",
    "list1.pop(3)\n",
    "list1"
   ]
  },
  {
   "cell_type": "code",
   "execution_count": 17,
   "id": "0e0415bd",
   "metadata": {},
   "outputs": [
    {
     "data": {
      "text/plain": [
       "['Rohan']"
      ]
     },
     "execution_count": 17,
     "metadata": {},
     "output_type": "execute_result"
    }
   ],
   "source": [
    "## Del keyword - deletes any python object from the memory\n",
    "del list1[1]\n",
    "list1"
   ]
  },
  {
   "cell_type": "code",
   "execution_count": 19,
   "id": "6d4d27da",
   "metadata": {},
   "outputs": [
    {
     "data": {
      "text/plain": [
       "[3, 4, 5]"
      ]
     },
     "execution_count": 19,
     "metadata": {},
     "output_type": "execute_result"
    }
   ],
   "source": [
    "## can delete a slice from the list using del keyword\n",
    "del list2[0:2]\n",
    "list2"
   ]
  },
  {
   "cell_type": "code",
   "execution_count": 21,
   "id": "b6031cd2",
   "metadata": {},
   "outputs": [
    {
     "name": "stdout",
     "output_type": "stream",
     "text": [
      "345"
     ]
    }
   ],
   "source": [
    "## Loop List - for loop \n",
    "list2\n",
    "for x in list2:\n",
    "    print(x, end = '')"
   ]
  },
  {
   "cell_type": "code",
   "execution_count": 23,
   "id": "f89e8e63",
   "metadata": {},
   "outputs": [
    {
     "ename": "SyntaxError",
     "evalue": "unexpected EOF while parsing (1918496714.py, line 4)",
     "output_type": "error",
     "traceback": [
      "\u001b[0;36m  Input \u001b[0;32mIn [23]\u001b[0;36m\u001b[0m\n\u001b[0;31m    \u001b[0m\n\u001b[0m    ^\u001b[0m\n\u001b[0;31mSyntaxError\u001b[0m\u001b[0;31m:\u001b[0m unexpected EOF while parsing\n"
     ]
    }
   ],
   "source": [
    "lst5 = [ 25, 22,20,12, 10 , 100]\n",
    "indices = range(len(lst5)"
   ]
  },
  {
   "cell_type": "code",
   "execution_count": 43,
   "id": "14bb8420",
   "metadata": {},
   "outputs": [],
   "source": [
    "lst6 = [25,12,10,-21,10,100]\n",
    "indices = range(len(lst6))\n"
   ]
  },
  {
   "cell_type": "code",
   "execution_count": 44,
   "id": "a35446c7",
   "metadata": {},
   "outputs": [
    {
     "name": "stdout",
     "output_type": "stream",
     "text": [
      "lst6[0]:  25\n",
      "lst6[1]:  12\n",
      "lst6[2]:  10\n",
      "lst6[3]:  -21\n",
      "lst6[4]:  10\n",
      "lst6[5]:  100\n"
     ]
    }
   ],
   "source": [
    "for i in indices:\n",
    "    print(\"lst6[{}]: \".format(i), lst6[i])"
   ]
  },
  {
   "cell_type": "code",
   "execution_count": 45,
   "id": "603a2700",
   "metadata": {},
   "outputs": [
    {
     "data": {
      "text/plain": [
       "[25, 12, 10, -21, 10, 100]"
      ]
     },
     "execution_count": 45,
     "metadata": {},
     "output_type": "execute_result"
    }
   ],
   "source": [
    "lst6"
   ]
  },
  {
   "cell_type": "code",
   "execution_count": 50,
   "id": "ffdfac6f",
   "metadata": {},
   "outputs": [
    {
     "name": "stdout",
     "output_type": "stream",
     "text": [
      "['t', 't', 'r', 'l', 'p', 'n', 't']\n"
     ]
    }
   ],
   "source": [
    "## List Comprehension - faster than for loop\n",
    "### list comprehension is similar to builder notation in mathematics, concise way to create a new list and is faster than for loop\n",
    "####  For loop -\n",
    "chars=[] # storage area\n",
    "for ch in 'tutorialpoint': \n",
    "    if ch not in 'aeiou':\n",
    "        chars.append(ch)\n",
    "print(chars)"
   ]
  },
  {
   "cell_type": "code",
   "execution_count": 51,
   "id": "f3f35216",
   "metadata": {},
   "outputs": [
    {
     "name": "stdout",
     "output_type": "stream",
     "text": [
      "['t', 't', 'r', 'l', 'p', 'n', 't']\n"
     ]
    }
   ],
   "source": [
    "## Above results using list comprehension instead of for loop\n",
    "chars = [char for char in 'tutorialpoint' if char not in 'aeiou']\n",
    "print(chars)"
   ]
  },
  {
   "cell_type": "code",
   "execution_count": 52,
   "id": "2409d3c0",
   "metadata": {},
   "outputs": [
    {
     "name": "stdout",
     "output_type": "stream",
     "text": [
      "[1, 4, 9, 16, 25, 36, 49, 64, 81, 100]\n"
     ]
    }
   ],
   "source": [
    "## list comprehension to build a list of squares of numbers between 1 to 10 \n",
    "squares = [x * x for x in range (1,11)]\n",
    "print(squares)"
   ]
  },
  {
   "cell_type": "code",
   "execution_count": 54,
   "id": "454e06b9",
   "metadata": {},
   "outputs": [
    {
     "name": "stdout",
     "output_type": "stream",
     "text": [
      "[(1, 4), (1, 5), (1, 6), (2, 4), (2, 5), (2, 6), (3, 4), (3, 5), (3, 6)]\n"
     ]
    }
   ],
   "source": [
    "## Nested loop in list comprehension \n",
    "### All combinations of items from two lists in the form of a tuple are added in a third list object\n",
    "list11 = [1,2,3]\n",
    "list12 = [4,5,6]\n",
    "CombList =[(x,y) for x in list11 for y in list12]\n",
    "print(CombList)"
   ]
  },
  {
   "cell_type": "code",
   "execution_count": 55,
   "id": "15c6864d",
   "metadata": {},
   "outputs": [
    {
     "name": "stdout",
     "output_type": "stream",
     "text": [
      "[2, 4, 6, 8, 10, 12, 14, 16, 18, 20]\n"
     ]
    }
   ],
   "source": [
    "## Condition in list comprehension \n",
    "### the following statement will create a list of all even numbers between 1 and 20\n",
    "list1=[x for x in range(1,21) if x%2==0]\n",
    "print (list1)"
   ]
  },
  {
   "cell_type": "code",
   "execution_count": 58,
   "id": "9e211320",
   "metadata": {},
   "outputs": [],
   "source": [
    "## sort list - rearranges the itesm in ascending or descending order, rearragement takes place in same list\n",
    "### and that it doesn't return a new object\n",
    "#### Syntax - list1.sort(key,reverse)\n",
    "##### Key - Function applied to each item in the list. The return value is used to perform sort - Optional\n",
    "###### Reverse - Boolean value, if set to True will return in descending order - Optional"
   ]
  },
  {
   "cell_type": "code",
   "execution_count": 65,
   "id": "b80e72fb",
   "metadata": {},
   "outputs": [
    {
     "data": {
      "text/plain": [
       "['Physics', 'biology', 'chemistry']"
      ]
     },
     "execution_count": 65,
     "metadata": {},
     "output_type": "execute_result"
    }
   ],
   "source": [
    "list13 = ['Physics', 'biology', 'chemistry']\n",
    "list13.sort()\n",
    "list13"
   ]
  },
  {
   "cell_type": "code",
   "execution_count": 66,
   "id": "6afc53ce",
   "metadata": {},
   "outputs": [
    {
     "data": {
      "text/plain": [
       "['chemistry', 'biology', 'Physics']"
      ]
     },
     "execution_count": 66,
     "metadata": {},
     "output_type": "execute_result"
    }
   ],
   "source": [
    "list13.sort(reverse= True)\n",
    "list13"
   ]
  },
  {
   "cell_type": "code",
   "execution_count": 68,
   "id": "4fb1aa9d",
   "metadata": {},
   "outputs": [
    {
     "data": {
      "text/plain": [
       "['biology', 'chemistry', 'Physics']"
      ]
     },
     "execution_count": 68,
     "metadata": {},
     "output_type": "execute_result"
    }
   ],
   "source": [
    "## str.lower as key parameter in sort method\n",
    "list13.sort(key = str.upper)\n",
    "list13"
   ]
  },
  {
   "cell_type": "code",
   "execution_count": 69,
   "id": "37bd41ea",
   "metadata": {},
   "outputs": [
    {
     "name": "stdout",
     "output_type": "stream",
     "text": [
      "list before sort [17, 23, 46, 51, 90]\n",
      "list after sort: [90, 51, 23, 46, 17]\n"
     ]
    }
   ],
   "source": [
    "## User Defined function as key parameter in sort method\n",
    "### The myfunction() uses % operator to return the remainder based on which the sort is done\n",
    "def myfunction(x):\n",
    "    return x%10\n",
    "list1 = [17,23,46,51,90]\n",
    "print('list before sort', list1)\n",
    "list1.sort(key = myfunction)\n",
    "print('list after sort:', list1)"
   ]
  },
  {
   "cell_type": "code",
   "execution_count": 75,
   "id": "d9b89d5d",
   "metadata": {},
   "outputs": [
    {
     "data": {
      "text/plain": [
       "['biology', 'chemistry', 'Physics']"
      ]
     },
     "execution_count": 75,
     "metadata": {},
     "output_type": "execute_result"
    }
   ],
   "source": [
    "## Python Copy list \n",
    "### In python a variable is just a label or reference to the object in the memory. The list lst1 = lst refers to\n",
    "#### the same list object in the memory.\n",
    "##### So if we update lst it will automatically update lst1 as it is pointing to the lst which means that lst1 \n",
    "###### is not the physical copy of the lst, so we have to create a physical copy to not cause effect in original\n",
    "####### list, we have to use lst.copy() method to create a physical copy of the list object\n",
    "lst1 = list13.copy()\n",
    "lst1"
   ]
  },
  {
   "cell_type": "code",
   "execution_count": 76,
   "id": "307d8131",
   "metadata": {},
   "outputs": [
    {
     "name": "stdout",
     "output_type": "stream",
     "text": [
      "joined list [10, 122, 123, 'one', 'twop', 'three']\n"
     ]
    }
   ],
   "source": [
    "## Python Join list\n",
    "### In Python list is classified as a sequence type object. it is a collection of items, whcih may be of different\n",
    "#### data types, with each item having a positional index starting with 0, Concatenation operator can join two list\n",
    "L1 = [10,122,123]\n",
    "L2 = ['one', 'twop', 'three']\n",
    "L3 = L1+L2\n",
    "print('joined list', L3)"
   ]
  },
  {
   "cell_type": "code",
   "execution_count": 78,
   "id": "91d53d05",
   "metadata": {},
   "outputs": [
    {
     "name": "stdout",
     "output_type": "stream",
     "text": [
      "[10, 122, 123, 'one', 'twop', 'three', 'one', 'twop', 'three']\n"
     ]
    }
   ],
   "source": [
    "## Augmented concatenation operator += to append L2 to L1\n",
    "L1+=L2\n",
    "print(L1)"
   ]
  },
  {
   "cell_type": "code",
   "execution_count": 79,
   "id": "53e20e76",
   "metadata": {},
   "outputs": [
    {
     "name": "stdout",
     "output_type": "stream",
     "text": [
      "joined list [10, 122, 123, 'one', 'twop', 'three', 'one', 'twop', 'three', 'one', 'twop', 'three']\n"
     ]
    }
   ],
   "source": [
    "## Above result can be acheived by extend() method as well\n",
    "L1.extend(L2)\n",
    "print('joined list', L1)"
   ]
  },
  {
   "cell_type": "code",
   "execution_count": 80,
   "id": "6afb75ba",
   "metadata": {},
   "outputs": [
    {
     "name": "stdout",
     "output_type": "stream",
     "text": [
      "joined list: [10, 122, 123, 'one', 'two', 'three']\n"
     ]
    }
   ],
   "source": [
    "## Add items from one list to another, iterative solution. Traverse items of second list with a for loop and append\n",
    "### each iteam in the first\n",
    "L1 = [10,122,123]\n",
    "L2 = ['one', 'two', 'three']\n",
    "\n",
    "for x in L2:\n",
    "    L1.append(x)\n",
    "\n",
    "print('joined list:', L1)\n"
   ]
  },
  {
   "cell_type": "code",
   "execution_count": 82,
   "id": "e7e3cbce",
   "metadata": {},
   "outputs": [
    {
     "data": {
      "text/plain": [
       "[10, 122, 123, 'one', 'two', 'three', 'one', 'two', 'three']"
      ]
     },
     "execution_count": 82,
     "metadata": {},
     "output_type": "execute_result"
    }
   ],
   "source": [
    "## List comprehension to join two lists -\n",
    "L3 = [ y for x in[L1,L2] for y in x]\n",
    "L3"
   ]
  },
  {
   "cell_type": "code",
   "execution_count": null,
   "id": "efd5e167",
   "metadata": {},
   "outputs": [],
   "source": [
    "### Python List exercises - \n",
    "# https://www.tutorialspoint.com/python/python_list_exercises.htm"
   ]
  }
 ],
 "metadata": {
  "kernelspec": {
   "display_name": "Python 3 (ipykernel)",
   "language": "python",
   "name": "python3"
  },
  "language_info": {
   "codemirror_mode": {
    "name": "ipython",
    "version": 3
   },
   "file_extension": ".py",
   "mimetype": "text/x-python",
   "name": "python",
   "nbconvert_exporter": "python",
   "pygments_lexer": "ipython3",
   "version": "3.9.12"
  }
 },
 "nbformat": 4,
 "nbformat_minor": 5
}
